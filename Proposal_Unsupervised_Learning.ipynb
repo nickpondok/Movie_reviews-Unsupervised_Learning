{
 "cells": [
  {
   "cell_type": "markdown",
   "id": "97d0f9a2",
   "metadata": {},
   "source": [
    "## Question/need:\n",
    "#### What is the framing question of your analysis, or the purpose of the model/system you plan to build? Who benefits from exploring this question or building this model/system?\n",
    "\n",
    "Disney wants to take a closer look at public opinion on the new movie Marvel movie, Shang-Chi. I am being asked to take a look at critic and audience reviews from to try and get a better understanding of what viewers liked and didn't like about the film. The goal being to take any feed back to know what will work for future movies. "
   ]
  },
  {
   "cell_type": "markdown",
   "id": "c9caff4e",
   "metadata": {},
   "source": [
    "## Data Description:\n",
    "#### What dataset(s) do you plan to use, and how will you obtain the data? What is an individual sample/unit of analysis in this project? What characteristics/features do you expect to work with? If modeling, what will you predict as your target?\n",
    "\n",
    "The data I will be using reviews from rotten tomatoes and/or google to take a look at audience and critic reviews. There are currently over 1,000 reviews and counting for this movie. I will attempt to do a topic model of the reviews to see which topics come up from both negative and positive reviews. I expect to see things like story/plot, action, cinematography etc. "
   ]
  },
  {
   "cell_type": "markdown",
   "id": "c862783a",
   "metadata": {},
   "source": [
    "## Tools:\n",
    "#### How do you intend to meet the tools requirement of the project? Are you planning in advance to need or use additional tools beyond those required?\n",
    "\n",
    "I plan to use selenium and beautiful soup to do the webscraping. Once I've obtained the data I will be using NLTK to handle preprocessing of the data such as using stop_words and stemming. After the data is clean I will be using SKLearn to create vectorizers withe ither TfifVectorizer or CountVectorizer. Lastly I'll use non-negative matrix factorization in order to determine topics in reviews.  "
   ]
  },
  {
   "cell_type": "markdown",
   "id": "a8a7f4e3",
   "metadata": {},
   "source": [
    "## MVP Goal\n",
    "#### What would a minimum viable product (MVP) look like for this project?\n",
    "\n",
    "An MVP goal for this project is going to be a list of n topics and their most common words. Additionally a visual to show the closeness of the documents, topics and terms. "
   ]
  },
  {
   "cell_type": "code",
   "execution_count": null,
   "id": "62507d98",
   "metadata": {},
   "outputs": [],
   "source": []
  }
 ],
 "metadata": {
  "kernelspec": {
   "display_name": "Python 3",
   "language": "python",
   "name": "python3"
  },
  "language_info": {
   "codemirror_mode": {
    "name": "ipython",
    "version": 3
   },
   "file_extension": ".py",
   "mimetype": "text/x-python",
   "name": "python",
   "nbconvert_exporter": "python",
   "pygments_lexer": "ipython3",
   "version": "3.8.8"
  }
 },
 "nbformat": 4,
 "nbformat_minor": 5
}
